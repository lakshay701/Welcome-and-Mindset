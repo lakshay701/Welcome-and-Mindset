{
  "nbformat": 4,
  "nbformat_minor": 0,
  "metadata": {
    "colab": {
      "provenance": []
    },
    "kernelspec": {
      "name": "python3",
      "display_name": "Python 3"
    },
    "language_info": {
      "name": "python"
    }
  },
  "cells": [
    {
      "cell_type": "markdown",
      "source": [
        "# **Welcome** **and** **Mindset**"
      ],
      "metadata": {
        "id": "ekGjW0WlZhG7"
      }
    },
    {
      "cell_type": "markdown",
      "source": [
        "1. What is your name?\n",
        "   - My name is lakshay sain.\n",
        " <!-- 2. who are you -->\n",
        "   \n"
      ],
      "metadata": {
        "id": "UzbzTqdpaSBe"
      }
    },
    {
      "cell_type": "markdown",
      "source": [
        "2. second question?\n",
        "    - answer"
      ],
      "metadata": {
        "id": "ut9oLeFHcBeB"
      }
    },
    {
      "cell_type": "code",
      "source": [
        "# Question\n",
        "\n",
        "\"\"\"\n",
        "this is the answer\n",
        "\"\"\""
      ],
      "metadata": {
        "id": "XgOfB2rNcSTz"
      },
      "execution_count": null,
      "outputs": []
    }
  ]
}